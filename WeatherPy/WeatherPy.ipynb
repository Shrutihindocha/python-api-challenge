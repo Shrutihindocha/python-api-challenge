{
 "cells": [
  {
   "cell_type": "markdown",
   "metadata": {},
   "source": [
    "# WeatherPy\n",
    "----\n",
    "\n",
    "#### Note\n",
    "* Instructions have been included for each segment. You do not have to follow them exactly, but they are included to help you think through the steps."
   ]
  },
  {
   "cell_type": "code",
   "execution_count": 1,
   "metadata": {
    "scrolled": true
   },
   "outputs": [
    {
     "ename": "ModuleNotFoundError",
     "evalue": "No module named 'api_keys'",
     "output_type": "error",
     "traceback": [
      "\u001b[0;31m---------------------------------------------------------------------------\u001b[0m",
      "\u001b[0;31mModuleNotFoundError\u001b[0m                       Traceback (most recent call last)",
      "\u001b[0;32m/var/folders/tj/_xdntth15sj92s2y9sr1xhmc0000gn/T/ipykernel_75635/3098447745.py\u001b[0m in \u001b[0;36m<module>\u001b[0;34m\u001b[0m\n\u001b[1;32m      5\u001b[0m \u001b[0;32mimport\u001b[0m \u001b[0mrequests\u001b[0m\u001b[0;34m\u001b[0m\u001b[0;34m\u001b[0m\u001b[0m\n\u001b[1;32m      6\u001b[0m \u001b[0;34m\u001b[0m\u001b[0m\n\u001b[0;32m----> 7\u001b[0;31m \u001b[0;32mfrom\u001b[0m \u001b[0mapi_keys\u001b[0m \u001b[0;32mimport\u001b[0m \u001b[0mg_key\u001b[0m\u001b[0;34m\u001b[0m\u001b[0;34m\u001b[0m\u001b[0m\n\u001b[0m\u001b[1;32m      8\u001b[0m \u001b[0;32mfrom\u001b[0m \u001b[0mapi_keys\u001b[0m \u001b[0;32mimport\u001b[0m \u001b[0mweather_api_key\u001b[0m\u001b[0;34m\u001b[0m\u001b[0;34m\u001b[0m\u001b[0m\n",
      "\u001b[0;31mModuleNotFoundError\u001b[0m: No module named 'api_keys'"
     ]
    }
   ],
   "source": [
    "# Dependencies\n",
    "import numpy as np\n",
    "import pandas as pd\n",
    "import matplotlib.pyplot as plt\n",
    "import requests\n",
    "\n",
    "from api_keys import g_key\n",
    "from api_keys import weather_api_key"
   ]
  },
  {
   "cell_type": "markdown",
   "metadata": {},
   "source": [
    "## Generate Cities List"
   ]
  },
  {
   "cell_type": "code",
   "execution_count": null,
   "metadata": {},
   "outputs": [],
   "source": [
    "# import random\n",
    "# from citipy import citipy\n",
    "# import random\n",
    "\n",
    "# lat = [random.uniform(-90,90) for x in range(1250)] #lat range (-90 to 90deg)\n",
    "# lng = [random.uniform(-180,180) for x in range(1250)] #lng range (-180 to 180deg)\n",
    "\n",
    "# coords = zip(lat,lng)\n",
    "\n",
    "# cities =[] #creating empty set\n",
    "\n",
    "# # cities\n",
    "\n",
    "# for coord in coords:\n",
    "#         city = citipy.nearest_city(coord[0],coord[1]).city_name\n",
    "#         if city not in cities:\n",
    "#             cities.append(city)\n",
    "\n",
    "# print(f\"The list city has {len(cities)} cities\")\n",
    "\n",
    "# # print(cities) ##testing\n",
    "\n"
   ]
  },
  {
   "cell_type": "markdown",
   "metadata": {},
   "source": [
    "### Perform API Calls\n",
    "* Perform a weather check on each city using a series of successive API calls.\n",
    "* Include a print log of each city as it'sbeing processed (with the city number and city name).\n"
   ]
  },
  {
   "cell_type": "code",
   "execution_count": null,
   "metadata": {
    "scrolled": true
   },
   "outputs": [],
   "source": [
    "# #forming dataframe\n",
    "# df_cities = pd.DataFrame({\"City\":cities})\n",
    "\n",
    "# df_cities"
   ]
  },
  {
   "cell_type": "code",
   "execution_count": null,
   "metadata": {
    "scrolled": true
   },
   "outputs": [],
   "source": [
    "#API request\n",
    "from pprint import pprint\n",
    "\n",
    "base_url = f\"http://api.openweathermap.org/data/2.5/weather\"\n",
    "\n",
    "print(\"Beginning Data Retrival\")\n",
    "print(\"--------------------------------\")\n",
    "\n",
    "for index, row in df_cities.iterrows():\n",
    "    \n",
    "    parameters = {\n",
    "    \"q\":row[\"City\"],\n",
    "    \"appid\": weather_api_key,\n",
    "    \"units\": \"imperial\"\n",
    "    }\n",
    "    \n",
    "    try:\n",
    "        response_data = requests.get(base_url, params=parameters).json()\n",
    "        \n",
    "         #Adding latitude to DF\n",
    "        df_cities.loc[index, \"Lat\"]= response_data[\"coord\"][\"lat\"]\n",
    "        df_cities.loc[index, \"Lng\"]= response_data[\"coord\"][\"lon\"]\n",
    "        df_cities.loc[index, \"Max Temp\"]= response_data[\"main\"][\"temp_max\"]\n",
    "        df_cities.loc[index, \"Humidity\"]= float(response_data[\"main\"][\"humidity\"])\n",
    "        df_cities.loc[index, \"Cloudiness\"]= response_data[\"clouds\"][\"all\"]\n",
    "        df_cities.loc[index, \"Wind Speed\"]= response_data[\"wind\"][\"speed\"]\n",
    "        df_cities.loc[index, \"Country\"]= response_data[\"sys\"][\"country\"]\n",
    "        df_cities.loc[index, \"Date\"]= response_data[\"dt\"]\n",
    "                \n",
    "        record = index + 1\n",
    "        set_no = int(index/50)+1\n",
    "        \n",
    "        print(f\"Processing Record {record} of Set {set_no} | {response_data['name']}\")\n",
    "        \n",
    "    except KeyError:\n",
    "        print(f\"\\n City not found. Skipping... \\n\")\n",
    "        pass\n",
    "    \n",
    "print(\"--------------------------------\")\n",
    "print(\"Data Retrieval Complete\")\n",
    "print(\"--------------------------------\")\n"
   ]
  },
  {
   "cell_type": "markdown",
   "metadata": {},
   "source": [
    "### Convert Raw Data to DataFrame\n",
    "* Export the city data into a .csv.\n",
    "* Display the DataFrame"
   ]
  },
  {
   "cell_type": "code",
   "execution_count": null,
   "metadata": {},
   "outputs": [],
   "source": [
    "#displaying DF\n",
    "df_cities"
   ]
  },
  {
   "cell_type": "code",
   "execution_count": null,
   "metadata": {},
   "outputs": [],
   "source": [
    "df_cities.to_csv(\"output.csv\", index=True, index_label=\"City No.\")"
   ]
  },
  {
   "cell_type": "markdown",
   "metadata": {},
   "source": [
    "## Inspect the data and remove the cities where the humidity > 100%.\n",
    "----\n",
    "Skip this step if there are no cities that have humidity > 100%. "
   ]
  },
  {
   "cell_type": "code",
   "execution_count": null,
   "metadata": {},
   "outputs": [],
   "source": [
    "df_cities[\"Humidity\"] "
   ]
  },
  {
   "cell_type": "code",
   "execution_count": null,
   "metadata": {},
   "outputs": [],
   "source": [
    "#  Get the indices of cities that have humidity over 100%\n",
    "df_humidity_100 = df_cities.loc[df_cities[\"Humidity\"] > 100, :]\n",
    "\n",
    "df_humidity_100\n",
    "\n",
    "#Therefore no cities where the humidity is greater than 100%"
   ]
  },
  {
   "cell_type": "code",
   "execution_count": null,
   "metadata": {},
   "outputs": [],
   "source": [
    "# Make a new DataFrame equal to the city data to drop all humidity outliers by index.\n",
    "# Passing \"inplace=False\" will make a copy of the city_data DataFrame, which we call \"clean_city_data\".\n",
    "\n",
    "# df_cities_cleaned = df_cities.drop(df_humidity_100)\n",
    "\n",
    "# df_cities_cleaned"
   ]
  },
  {
   "cell_type": "markdown",
   "metadata": {},
   "source": [
    "## Plotting the Data\n",
    "* Use proper labeling of the plots using plot titles (including date of analysis) and axes labels.\n",
    "* Save the plotted figures as .pngs."
   ]
  },
  {
   "cell_type": "markdown",
   "metadata": {},
   "source": [
    "## Latitude vs. Temperature Plot"
   ]
  },
  {
   "cell_type": "code",
   "execution_count": null,
   "metadata": {
    "scrolled": true
   },
   "outputs": [],
   "source": [
    "latitudes = pd.to_numeric(df_cities[\"Lat\"])\n",
    "temperatures = pd.to_numeric(df_cities[\"Max Temp\"])\n",
    "\n",
    "#generating scatter plot lat vs temperature\n",
    "plt.figure(figsize=(8, 6), dpi=80) #re-sizing the plot \n",
    "plt.scatter(latitudes, temperatures, marker=\"o\", facecolors=\"blue\", edgecolors=\"black\")\n",
    "\n",
    "#addings title, x & y labels and grid to the scatter plot\n",
    "plt.title(\"City Latitude vs. Max Temperature (23/10/21)\")\n",
    "plt.ylabel(\"Max Temperature (deg C)\")\n",
    "plt.xlabel(\"Latitude\")\n",
    "plt.grid()\n",
    "\n",
    "#saving png image file in the folder\n",
    "plt.savefig(\"Fig1.png\")\n",
    "#displaying scatter plot\n",
    "plt.show()\n",
    "\n",
    "##analysis\n",
    "#Temperatures increase moving closer towards the equator. \n",
    "#Some cities in the Northern hemisphere experience lower temperatures (in the negatives) due to their \n",
    "#location being closer to the north pole"
   ]
  },
  {
   "cell_type": "code",
   "execution_count": null,
   "metadata": {},
   "outputs": [],
   "source": []
  },
  {
   "cell_type": "markdown",
   "metadata": {},
   "source": [
    "## Latitude vs. Humidity Plot"
   ]
  },
  {
   "cell_type": "code",
   "execution_count": null,
   "metadata": {},
   "outputs": [],
   "source": [
    "#generating scatter plot lat vs temperature\n",
    "humidity = df_cities[\"Humidity\"]\n",
    "\n",
    "plt.figure(figsize=(8, 6), dpi=80)\n",
    "plt.scatter(latitudes, humidity, marker=\"o\", facecolors=\"blue\", edgecolors=\"black\")\n",
    "\n",
    "plt.title(\"City Latitude vs. Humidity (23/10/21)\")\n",
    "plt.ylabel(\"Humidity (%)\")\n",
    "plt.xlabel(\"Latitude\")\n",
    "plt.grid()\n",
    "\n",
    "plt.savefig(\"Fig2.png\")\n",
    "plt.show()\n",
    "\n",
    "#analysis\n",
    "#More cities have humidity 60% or higher. \n",
    "#All cities at the equator (0 deg) latitude have humidity 60% or higher\n",
    "#More cities have humidity levels lower at the tropics"
   ]
  },
  {
   "cell_type": "markdown",
   "metadata": {},
   "source": [
    "## Latitude vs. Cloudiness Plot"
   ]
  },
  {
   "cell_type": "code",
   "execution_count": null,
   "metadata": {},
   "outputs": [],
   "source": [
    "#Generating scatter plot. Steps - same as above. \n",
    "cloudiness = pd.to_numeric(df_cities[\"Cloudiness\"])\n",
    "\n",
    "plt.figure(figsize=(8, 6), dpi=80)\n",
    "plt.scatter(latitudes, cloudiness, marker=\"o\", facecolors=\"blue\", edgecolors=\"black\")\n",
    "\n",
    "plt.title(\"City Latitude vs. Cloudiness (23/10/21)\")\n",
    "plt.ylabel(\"Cloudiness (%)\")\n",
    "plt.xlabel(\"Latitude\")\n",
    "plt.grid()\n",
    "\n",
    "plt.savefig(\"Fig3.png\")\n",
    "plt.show()\n",
    "\n",
    "##analysis\n",
    "#at 0 deg lat, more cities  have 100% cloudiness \n",
    "#cities located in the middle have lower cloudiness percentages\n",
    "#again cities far in the northern hemisphere (60-80deg) tend to have higher percentage of cloudiness\n"
   ]
  },
  {
   "cell_type": "code",
   "execution_count": null,
   "metadata": {},
   "outputs": [],
   "source": []
  },
  {
   "cell_type": "markdown",
   "metadata": {},
   "source": [
    "## Latitude vs. Wind Speed Plot"
   ]
  },
  {
   "cell_type": "code",
   "execution_count": null,
   "metadata": {},
   "outputs": [],
   "source": [
    "from matplotlib.pyplot import figure\n",
    "\n",
    "#generating scatter plot lat vs temperature\n",
    "winds = pd.to_numeric(df_cities[\"Wind Speed\"])\n",
    "\n",
    "plt.figure(figsize=(8, 6), dpi=80)\n",
    "plt.scatter(latitudes, winds, marker=\"o\", facecolors=\"blue\", edgecolors=\"black\")\n",
    "\n",
    "plt.title(\"City Latitude vs. Windspeed (23/10/21)\")\n",
    "\n",
    "plt.ylabel(\"Windspeed (m/s)\")\n",
    "plt.xlabel(\"Latitude\")\n",
    "plt.grid()\n",
    "\n",
    "plt.savefig(\"Fig4.png\")\n",
    "plt.show()\n",
    "\n",
    "#analysis\n",
    "#"
   ]
  },
  {
   "cell_type": "code",
   "execution_count": null,
   "metadata": {},
   "outputs": [],
   "source": []
  },
  {
   "cell_type": "code",
   "execution_count": null,
   "metadata": {},
   "outputs": [],
   "source": []
  },
  {
   "cell_type": "code",
   "execution_count": null,
   "metadata": {},
   "outputs": [],
   "source": []
  },
  {
   "cell_type": "code",
   "execution_count": null,
   "metadata": {},
   "outputs": [],
   "source": []
  },
  {
   "cell_type": "code",
   "execution_count": null,
   "metadata": {},
   "outputs": [],
   "source": []
  },
  {
   "cell_type": "markdown",
   "metadata": {},
   "source": [
    "## Linear Regression"
   ]
  },
  {
   "cell_type": "code",
   "execution_count": null,
   "metadata": {},
   "outputs": [],
   "source": [
    "if latitudes > 0:\n",
    "    df_cities[\"Hemisphere\"]= \"Northern Hemisphere\"\n",
    "elif latitudes < 0:\n",
    "    df_cities[\"Hemisphere\"]= \"Southern Hemisphere\"\n",
    "elif latitudes == 0:\n",
    "    df_cities[\"Hemisphere\"]= \"Equator\" \n",
    "    \n",
    "df_cities"
   ]
  },
  {
   "cell_type": "code",
   "execution_count": null,
   "metadata": {},
   "outputs": [],
   "source": []
  },
  {
   "cell_type": "code",
   "execution_count": null,
   "metadata": {},
   "outputs": [],
   "source": [
    "import scipy.stats as st\n",
    "\n",
    "def linear_regression(x_value,y_value,x_label,y_label,title):\n",
    "    correlation = st.pearsonr(x_value,y_value)\n",
    "    \n",
    "    slope, intercept, r_value, p_value, std_error = st.linregress(x_value, y_value)\n",
    "    print(f\"The r-value is {r_value[0]}\")\n",
    "\n",
    "    regress_values = x_values * slope + intercept\n",
    "    line_eq = \"y = \" + str(round(slope,2)) + \"x + \" + str(round(intercept,2))\n",
    "    \n",
    "    plt.figure(figsize=(8, 6), dpi=80)\n",
    "    plt.scatter(x_values,y_value, smarker=\"o\", facecolors=\"blue\", edgecolors=\"black\")\n",
    "    plt.plot(x_values,regress_values,\"r-\")\n",
    "    plt.annotate(line_eq,(20,36),fontsize=12,color=\"red\")\n",
    "\n",
    "    plt.xlabel(f\"{x_label}\")\n",
    "    plt.ylabel(f\"{y_label}\")\n",
    "    plt.title(f\"{title}\")\n",
    "\n",
    "    plt.show()"
   ]
  },
  {
   "cell_type": "markdown",
   "metadata": {},
   "source": [
    "####  Northern Hemisphere - Max Temp vs. Latitude Linear Regression"
   ]
  },
  {
   "cell_type": "code",
   "execution_count": null,
   "metadata": {},
   "outputs": [],
   "source": [
    "x_values = latitudes\n",
    "y_values = winds\n",
    "x_label = \"Max Temp\"\n",
    "y_label = \"Latitude\"\n",
    "title = \"Max Temp vs. Latitude Linear Regression\"\n",
    "\n",
    "linear_regression(x_value,y_value,x_label,y_label,title)"
   ]
  },
  {
   "cell_type": "code",
   "execution_count": null,
   "metadata": {},
   "outputs": [],
   "source": []
  },
  {
   "cell_type": "code",
   "execution_count": null,
   "metadata": {},
   "outputs": [],
   "source": []
  },
  {
   "cell_type": "code",
   "execution_count": null,
   "metadata": {},
   "outputs": [],
   "source": []
  },
  {
   "cell_type": "code",
   "execution_count": null,
   "metadata": {},
   "outputs": [],
   "source": []
  },
  {
   "cell_type": "code",
   "execution_count": null,
   "metadata": {},
   "outputs": [],
   "source": []
  },
  {
   "cell_type": "markdown",
   "metadata": {},
   "source": [
    "####  Southern Hemisphere - Max Temp vs. Latitude Linear Regression"
   ]
  },
  {
   "cell_type": "code",
   "execution_count": null,
   "metadata": {},
   "outputs": [],
   "source": [
    "x_values = mouse_weight\n",
    "y_values = avg_tumorV\n",
    "\n",
    "regress_values = x_values * slope + intercept\n",
    "line_eq = \"y = \" + str(round(slope,2)) + \"x + \" + str(round(intercept,2))\n",
    "\n",
    "plt.scatter(x_values,y_values)\n",
    "plt.plot(x_values,regress_values,\"r-\")\n",
    "plt.annotate(line_eq,(20,36),fontsize=12,color=\"red\")\n",
    "\n",
    "plt.xlabel(\"Weight(g)\")\n",
    "plt.ylabel(\"Avg Tumor Volume for \\n Capomulin Regimen (mm3)\")\n",
    "plt.title(\"Mouse weight versus average tumor volume \\n for the Capomulin regimen\")\n",
    "\n",
    "plt.show()"
   ]
  },
  {
   "cell_type": "markdown",
   "metadata": {},
   "source": [
    "####  Northern Hemisphere - Humidity (%) vs. Latitude Linear Regression"
   ]
  },
  {
   "cell_type": "code",
   "execution_count": null,
   "metadata": {},
   "outputs": [],
   "source": [
    "x_values = mouse_weight\n",
    "y_values = avg_tumorV\n",
    "\n",
    "regress_values = x_values * slope + intercept\n",
    "line_eq = \"y = \" + str(round(slope,2)) + \"x + \" + str(round(intercept,2))\n",
    "\n",
    "plt.scatter(x_values,y_values)\n",
    "plt.plot(x_values,regress_values,\"r-\")\n",
    "plt.annotate(line_eq,(20,36),fontsize=12,color=\"red\")\n",
    "\n",
    "plt.xlabel(\"Weight(g)\")\n",
    "plt.ylabel(\"Avg Tumor Volume for \\n Capomulin Regimen (mm3)\")\n",
    "plt.title(\"Mouse weight versus average tumor volume \\n for the Capomulin regimen\")\n",
    "\n",
    "plt.show()"
   ]
  },
  {
   "cell_type": "markdown",
   "metadata": {},
   "source": [
    "####  Southern Hemisphere - Humidity (%) vs. Latitude Linear Regression"
   ]
  },
  {
   "cell_type": "code",
   "execution_count": null,
   "metadata": {},
   "outputs": [],
   "source": [
    "x_values = mouse_weight\n",
    "y_values = avg_tumorV\n",
    "\n",
    "regress_values = x_values * slope + intercept\n",
    "line_eq = \"y = \" + str(round(slope,2)) + \"x + \" + str(round(intercept,2))\n",
    "\n",
    "plt.scatter(x_values,y_values)\n",
    "plt.plot(x_values,regress_values,\"r-\")\n",
    "plt.annotate(line_eq,(20,36),fontsize=12,color=\"red\")\n",
    "\n",
    "plt.xlabel(\"Weight(g)\")\n",
    "plt.ylabel(\"Avg Tumor Volume for \\n Capomulin Regimen (mm3)\")\n",
    "plt.title(\"Mouse weight versus average tumor volume \\n for the Capomulin regimen\")\n",
    "\n",
    "plt.show()"
   ]
  },
  {
   "cell_type": "markdown",
   "metadata": {},
   "source": [
    "####  Northern Hemisphere - Cloudiness (%) vs. Latitude Linear Regression"
   ]
  },
  {
   "cell_type": "code",
   "execution_count": null,
   "metadata": {},
   "outputs": [],
   "source": [
    "x_values = mouse_weight\n",
    "y_values = avg_tumorV\n",
    "\n",
    "regress_values = x_values * slope + intercept\n",
    "line_eq = \"y = \" + str(round(slope,2)) + \"x + \" + str(round(intercept,2))\n",
    "\n",
    "plt.scatter(x_values,y_values)\n",
    "plt.plot(x_values,regress_values,\"r-\")\n",
    "plt.annotate(line_eq,(20,36),fontsize=12,color=\"red\")\n",
    "\n",
    "plt.xlabel(\"Weight(g)\")\n",
    "plt.ylabel(\"Avg Tumor Volume for \\n Capomulin Regimen (mm3)\")\n",
    "plt.title(\"Mouse weight versus average tumor volume \\n for the Capomulin regimen\")\n",
    "\n",
    "plt.show()"
   ]
  },
  {
   "cell_type": "markdown",
   "metadata": {},
   "source": [
    "####  Southern Hemisphere - Cloudiness (%) vs. Latitude Linear Regression"
   ]
  },
  {
   "cell_type": "code",
   "execution_count": null,
   "metadata": {},
   "outputs": [],
   "source": [
    "x_values = mouse_weight\n",
    "y_values = avg_tumorV\n",
    "\n",
    "regress_values = x_values * slope + intercept\n",
    "line_eq = \"y = \" + str(round(slope,2)) + \"x + \" + str(round(intercept,2))\n",
    "\n",
    "plt.scatter(x_values,y_values)\n",
    "plt.plot(x_values,regress_values,\"r-\")\n",
    "plt.annotate(line_eq,(20,36),fontsize=12,color=\"red\")\n",
    "\n",
    "plt.xlabel(\"Weight(g)\")\n",
    "plt.ylabel(\"Avg Tumor Volume for \\n Capomulin Regimen (mm3)\")\n",
    "plt.title(\"Mouse weight versus average tumor volume \\n for the Capomulin regimen\")\n",
    "\n",
    "plt.show()"
   ]
  },
  {
   "cell_type": "markdown",
   "metadata": {},
   "source": [
    "####  Northern Hemisphere - Wind Speed (mph) vs. Latitude Linear Regression"
   ]
  },
  {
   "cell_type": "code",
   "execution_count": null,
   "metadata": {},
   "outputs": [],
   "source": [
    "x_values = mouse_weight\n",
    "y_values = avg_tumorV\n",
    "\n",
    "regress_values = x_values * slope + intercept\n",
    "line_eq = \"y = \" + str(round(slope,2)) + \"x + \" + str(round(intercept,2))\n",
    "\n",
    "plt.scatter(x_values,y_values)\n",
    "plt.plot(x_values,regress_values,\"r-\")\n",
    "plt.annotate(line_eq,(20,36),fontsize=12,color=\"red\")\n",
    "\n",
    "plt.xlabel(\"Weight(g)\")\n",
    "plt.ylabel(\"Avg Tumor Volume for \\n Capomulin Regimen (mm3)\")\n",
    "plt.title(\"Mouse weight versus average tumor volume \\n for the Capomulin regimen\")\n",
    "\n",
    "plt.show()"
   ]
  },
  {
   "cell_type": "markdown",
   "metadata": {},
   "source": [
    "####  Southern Hemisphere - Wind Speed (mph) vs. Latitude Linear Regression"
   ]
  },
  {
   "cell_type": "code",
   "execution_count": null,
   "metadata": {},
   "outputs": [],
   "source": [
    "x_values = mouse_weight\n",
    "y_values = avg_tumorV\n",
    "\n",
    "regress_values = x_values * slope + intercept\n",
    "line_eq = \"y = \" + str(round(slope,2)) + \"x + \" + str(round(intercept,2))\n",
    "\n",
    "plt.scatter(x_values,y_values)\n",
    "plt.plot(x_values,regress_values,\"r-\")\n",
    "plt.annotate(line_eq,(20,36),fontsize=12,color=\"red\")\n",
    "\n",
    "plt.xlabel(\"Weight(g)\")\n",
    "plt.ylabel(\"Avg Tumor Volume for \\n Capomulin Regimen (mm3)\")\n",
    "plt.title(\"Mouse weight versus average tumor volume \\n for the Capomulin regimen\")\n",
    "\n",
    "plt.show()"
   ]
  },
  {
   "cell_type": "code",
   "execution_count": null,
   "metadata": {},
   "outputs": [],
   "source": []
  }
 ],
 "metadata": {
  "anaconda-cloud": {},
  "kernel_info": {
   "name": "python3"
  },
  "kernelspec": {
   "display_name": "Python 3 (ipykernel)",
   "language": "python",
   "name": "python3"
  },
  "language_info": {
   "codemirror_mode": {
    "name": "ipython",
    "version": 3
   },
   "file_extension": ".py",
   "mimetype": "text/x-python",
   "name": "python",
   "nbconvert_exporter": "python",
   "pygments_lexer": "ipython3",
   "version": "3.7.11"
  },
  "latex_envs": {
   "LaTeX_envs_menu_present": true,
   "autoclose": false,
   "autocomplete": true,
   "bibliofile": "biblio.bib",
   "cite_by": "apalike",
   "current_citInitial": 1,
   "eqLabelWithNumbers": true,
   "eqNumInitial": 1,
   "hotkeys": {
    "equation": "Ctrl-E",
    "itemize": "Ctrl-I"
   },
   "labels_anchors": false,
   "latex_user_defs": false,
   "report_style_numbering": false,
   "user_envs_cfg": false
  },
  "nteract": {
   "version": "0.12.3"
  }
 },
 "nbformat": 4,
 "nbformat_minor": 2
}
